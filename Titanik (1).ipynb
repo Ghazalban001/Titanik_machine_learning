{
  "nbformat": 4,
  "nbformat_minor": 0,
  "metadata": {
    "colab": {
      "provenance": []
    },
    "kernelspec": {
      "name": "python3",
      "display_name": "Python 3"
    },
    "language_info": {
      "name": "python"
    }
  },
  "cells": [
    {
      "cell_type": "code",
      "execution_count": 5,
      "metadata": {
        "colab": {
          "base_uri": "https://localhost:8080/"
        },
        "id": "T18XxL6ITP9v",
        "outputId": "43f07b51-a8cc-4e05-9763-558d4534fb56"
      },
      "outputs": [
        {
          "output_type": "stream",
          "name": "stdout",
          "text": [
            "Requirement already satisfied: patool in /usr/local/lib/python3.11/dist-packages (4.0.1)\n"
          ]
        }
      ],
      "source": [
        "!pip install patool\n",
        "import pandas as pd\n",
        "import numpy as np\n",
        "import patoolib\n",
        "import seaborn as sns\n",
        "import matplotlib.pyplot as plt"
      ]
    },
    {
      "cell_type": "code",
      "source": [
        "# Extracts the contents of 'titanik.rar' into the 'titanik' folder\n",
        "patoolib.extract_archive(\"titanik.rar\", outdir=\"titanik\")"
      ],
      "metadata": {
        "colab": {
          "base_uri": "https://localhost:8080/",
          "height": 304
        },
        "id": "Eon17eheTVAT",
        "outputId": "65750982-d893-4896-9c7f-68bacbe71ecd"
      },
      "execution_count": 6,
      "outputs": [
        {
          "output_type": "error",
          "ename": "PatoolError",
          "evalue": "file `titanik.rar' was not found",
          "traceback": [
            "\u001b[0;31m---------------------------------------------------------------------------\u001b[0m",
            "\u001b[0;31mPatoolError\u001b[0m                               Traceback (most recent call last)",
            "\u001b[0;32m/tmp/ipython-input-2579948527.py\u001b[0m in \u001b[0;36m<cell line: 0>\u001b[0;34m()\u001b[0m\n\u001b[1;32m      1\u001b[0m \u001b[0;31m# Extracts the contents of 'titanik.rar' into the 'titanik' folder\u001b[0m\u001b[0;34m\u001b[0m\u001b[0;34m\u001b[0m\u001b[0m\n\u001b[0;32m----> 2\u001b[0;31m \u001b[0mpatoolib\u001b[0m\u001b[0;34m.\u001b[0m\u001b[0mextract_archive\u001b[0m\u001b[0;34m(\u001b[0m\u001b[0;34m\"titanik.rar\"\u001b[0m\u001b[0;34m,\u001b[0m \u001b[0moutdir\u001b[0m\u001b[0;34m=\u001b[0m\u001b[0;34m\"titanik\"\u001b[0m\u001b[0;34m)\u001b[0m\u001b[0;34m\u001b[0m\u001b[0;34m\u001b[0m\u001b[0m\n\u001b[0m",
            "\u001b[0;32m/usr/local/lib/python3.11/dist-packages/patoolib/__init__.py\u001b[0m in \u001b[0;36mextract_archive\u001b[0;34m(archive, verbosity, outdir, program, interactive, password)\u001b[0m\n\u001b[1;32m   1138\u001b[0m     \u001b[0;34m:\u001b[0m\u001b[0mrtype\u001b[0m\u001b[0;34m:\u001b[0m \u001b[0mstr\u001b[0m\u001b[0;34m\u001b[0m\u001b[0;34m\u001b[0m\u001b[0m\n\u001b[1;32m   1139\u001b[0m     \"\"\"\n\u001b[0;32m-> 1140\u001b[0;31m     \u001b[0mfileutil\u001b[0m\u001b[0;34m.\u001b[0m\u001b[0mcheck_existing_filename\u001b[0m\u001b[0;34m(\u001b[0m\u001b[0marchive\u001b[0m\u001b[0;34m)\u001b[0m\u001b[0;34m\u001b[0m\u001b[0;34m\u001b[0m\u001b[0m\n\u001b[0m\u001b[1;32m   1141\u001b[0m     \u001b[0;32mif\u001b[0m \u001b[0mverbosity\u001b[0m \u001b[0;34m>=\u001b[0m \u001b[0;36m0\u001b[0m\u001b[0;34m:\u001b[0m\u001b[0;34m\u001b[0m\u001b[0;34m\u001b[0m\u001b[0m\n\u001b[1;32m   1142\u001b[0m         \u001b[0mlog\u001b[0m\u001b[0;34m.\u001b[0m\u001b[0mlog_info\u001b[0m\u001b[0;34m(\u001b[0m\u001b[0;34mf\"Extracting {archive} ...\"\u001b[0m\u001b[0;34m)\u001b[0m\u001b[0;34m\u001b[0m\u001b[0;34m\u001b[0m\u001b[0m\n",
            "\u001b[0;32m/usr/local/lib/python3.11/dist-packages/patoolib/fileutil.py\u001b[0m in \u001b[0;36mcheck_existing_filename\u001b[0;34m(filename, onlyfiles)\u001b[0m\n\u001b[1;32m     28\u001b[0m     \u001b[0;34m\"\"\"Ensure that given filename is a valid, existing file.\"\"\"\u001b[0m\u001b[0;34m\u001b[0m\u001b[0;34m\u001b[0m\u001b[0m\n\u001b[1;32m     29\u001b[0m     \u001b[0;32mif\u001b[0m \u001b[0;32mnot\u001b[0m \u001b[0mos\u001b[0m\u001b[0;34m.\u001b[0m\u001b[0mpath\u001b[0m\u001b[0;34m.\u001b[0m\u001b[0mexists\u001b[0m\u001b[0;34m(\u001b[0m\u001b[0mfilename\u001b[0m\u001b[0;34m)\u001b[0m\u001b[0;34m:\u001b[0m\u001b[0;34m\u001b[0m\u001b[0;34m\u001b[0m\u001b[0m\n\u001b[0;32m---> 30\u001b[0;31m         \u001b[0;32mraise\u001b[0m \u001b[0mPatoolError\u001b[0m\u001b[0;34m(\u001b[0m\u001b[0;34mf\"file `{filename}' was not found\"\u001b[0m\u001b[0;34m)\u001b[0m\u001b[0;34m\u001b[0m\u001b[0;34m\u001b[0m\u001b[0m\n\u001b[0m\u001b[1;32m     31\u001b[0m     \u001b[0;32mif\u001b[0m \u001b[0;32mnot\u001b[0m \u001b[0mos\u001b[0m\u001b[0;34m.\u001b[0m\u001b[0maccess\u001b[0m\u001b[0;34m(\u001b[0m\u001b[0mfilename\u001b[0m\u001b[0;34m,\u001b[0m \u001b[0mos\u001b[0m\u001b[0;34m.\u001b[0m\u001b[0mR_OK\u001b[0m\u001b[0;34m)\u001b[0m\u001b[0;34m:\u001b[0m\u001b[0;34m\u001b[0m\u001b[0;34m\u001b[0m\u001b[0m\n\u001b[1;32m     32\u001b[0m         \u001b[0;32mraise\u001b[0m \u001b[0mPatoolError\u001b[0m\u001b[0;34m(\u001b[0m\u001b[0;34mf\"file `{filename}' is not readable\"\u001b[0m\u001b[0;34m)\u001b[0m\u001b[0;34m\u001b[0m\u001b[0;34m\u001b[0m\u001b[0m\n",
            "\u001b[0;31mPatoolError\u001b[0m: file `titanik.rar' was not found"
          ]
        }
      ]
    },
    {
      "cell_type": "code",
      "source": [
        "# Walk through the 'titanik' directory and print full paths of all files inside it\n",
        "import os\n",
        "for dirnames, _, filenames in os.walk(\"titanik\"):\n",
        "    for filename in filenames:\n",
        "        print(os.path.join(dirnames, filename))"
      ],
      "metadata": {
        "id": "bu-YrtjiTfmZ"
      },
      "execution_count": null,
      "outputs": []
    },
    {
      "cell_type": "code",
      "source": [
        "# Load the training dataset from the extracted folder\n",
        "train_df = pd.read_csv(\"titanik/titanik/train.csv\")\n",
        "\n",
        "# Load the test dataset from the extracted folder\n",
        "test_df = pd.read_csv(\"titanik/titanik/test.csv\")\n"
      ],
      "metadata": {
        "id": "DhLW-hImTjgB"
      },
      "execution_count": null,
      "outputs": []
    },
    {
      "cell_type": "code",
      "source": [
        "# Display a concise summary of the DataFrame, including column names, non-null counts, and data types\n",
        "train_df.info()\n"
      ],
      "metadata": {
        "id": "rJJuAPJ1TvgX"
      },
      "execution_count": null,
      "outputs": []
    },
    {
      "cell_type": "code",
      "source": [
        "# Combine train and test DataFrames into one, adding keys to distinguish between them\n",
        "combined = pd.concat([train_df, test_df], axis=0, keys=[\"train\", \"test\"])\n",
        "# Convert the 'Sex' column into dummy/indicator variables and drop the first category to avoid multicollinearity\n",
        "combined = pd.get_dummies(combined, columns=[\"Sex\"], drop_first=True)"
      ],
      "metadata": {
        "id": "h8QANRsqTvdM"
      },
      "execution_count": null,
      "outputs": []
    },
    {
      "cell_type": "code",
      "source": [
        "# Fill missing values in numeric columns with the column-wise mean\n",
        "combined.fillna(combined.mean(numeric_only=True), inplace=True)"
      ],
      "metadata": {
        "id": "0cxzNenATvaZ"
      },
      "execution_count": null,
      "outputs": []
    },
    {
      "cell_type": "code",
      "source": [
        "features = [\"Pclass\", \"Sex_male\", \"SibSp\", \"Parch\"]"
      ],
      "metadata": {
        "id": "6dC3-PoMUe68"
      },
      "execution_count": null,
      "outputs": []
    },
    {
      "cell_type": "code",
      "source": [
        "# Extract the 'train' portion of the combined DataFrame using the key\n",
        "train_data = combined.xs(\"train\")\n",
        "\n",
        "# Extract the 'test' portion of the combined DataFrame using the key\n",
        "test_data = combined.xs(\"test\")\n"
      ],
      "metadata": {
        "id": "OHXUsGihTvW9"
      },
      "execution_count": null,
      "outputs": []
    },
    {
      "cell_type": "code",
      "source": [
        "# Check if the 'Survived' column exists in the train_data DataFrame\n",
        "if \"Survived\" in train_data.columns:\n",
        "    # Select the 'Survived' values for female passengers (Sex_male == 0\n",
        "    women = train_data.loc[train_data[\"Sex_male\"] == 0, \"Survived\"]\n",
        "    # Select the 'Survived' values for male passengers (Sex_male == 1)\n",
        "    men = train_data.loc[train_data[\"Sex_male\"] == 1, \"Survived\"]\n",
        "\n",
        "    # Calculate and print the survival rate for women and men\n",
        "    print(\"% of women who survived:\", sum(women)/len(women))\n",
        "    print(\"% of men who survived:\", sum(men)/len(men))\n"
      ],
      "metadata": {
        "id": "_OPaAk4rTvTy"
      },
      "execution_count": null,
      "outputs": []
    },
    {
      "cell_type": "code",
      "source": [
        "# Import the RandomForestClassifier from scikit-learn\n",
        "from sklearn.ensemble import RandomForestClassifier\n",
        "\n",
        "# Select feature and target columns for training\n",
        "x_train = train_data[features]\n",
        "y_train = train_data[\"Survived\"]\n",
        "\n",
        "# Create a Random Forest model with 100 trees and maximum depth of 5\n",
        "model = RandomForestClassifier(n_estimators=100, max_depth=5, random_state=1)\n",
        "model.fit(x_train, y_train)\n"
      ],
      "metadata": {
        "id": "IE759RIHUCP7"
      },
      "execution_count": null,
      "outputs": []
    },
    {
      "cell_type": "code",
      "source": [
        "# Prepare test features, predict with model, and print first 10 predictions\n",
        "x_test = test_data[features]\n",
        "predictions = model.predict(x_test)\n",
        "print(\"Predictions on test set (first 10):\", predictions[:10])"
      ],
      "metadata": {
        "id": "MsMkHm1HUCMz"
      },
      "execution_count": null,
      "outputs": []
    }
  ]
}